{
 "cells": [
  {
   "cell_type": "code",
   "execution_count": 66,
   "id": "2f45ad7f-febb-4e37-a21e-3b26118723d6",
   "metadata": {},
   "outputs": [],
   "source": [
    "import requests\n",
    "import pandas as pd\n",
    "from bs4 import BeautifulSoup\n",
    "import re\n",
    "import time"
   ]
  },
  {
   "cell_type": "code",
   "execution_count": 67,
   "id": "41201e5a-6c4f-45ad-869c-11f614b1d619",
   "metadata": {},
   "outputs": [],
   "source": [
    "bvid = \"BV15iBuY9E87\"  # 替换为目标视频的BVID（URL中的BV号）\n",
    "\n",
    "# 获取视频信息（包含cid和aid）\n",
    "url_info = f\"https://api.bilibili.com/x/web-interface/view?bvid={bvid}\"\n",
    "response = requests.get(url_info, headers={\"User-Agent\": \"Mozilla/5.0\"})\n",
    "data = response.json()\n",
    "cid = data['data']['cid']  # 弹幕和字幕需要cid\n",
    "oid = data['data']['aid']  # 评论需要oid（即aid）"
   ]
  },
  {
   "cell_type": "code",
   "execution_count": 68,
   "id": "36dc1ef3-6d4b-472f-bc66-aaec1da16797",
   "metadata": {},
   "outputs": [
    {
     "name": "stdout",
     "output_type": "stream",
     "text": [
      "CID: 27327596302\n"
     ]
    }
   ],
   "source": [
    "bvid = \"BV15iBuY9E87\"  # 替换为你的BVID\n",
    "\n",
    "# 请求视频信息API\n",
    "url = f\"https://api.bilibili.com/x/web-interface/view?bvid={bvid}\"\n",
    "headers = {\"User-Agent\": \"Mozilla/5.0\"}\n",
    "response = requests.get(url, headers=headers)\n",
    "data = response.json()\n",
    "\n",
    "# 提取CID（默认获取第一个分P的CID）\n",
    "cid = data['data']['pages'][0]['cid']\n",
    "print(\"CID:\", cid)"
   ]
  },
  {
   "cell_type": "code",
   "execution_count": 69,
   "id": "ed184a52-f1c1-4927-a623-0cb43bd91801",
   "metadata": {},
   "outputs": [
    {
     "name": "stdout",
     "output_type": "stream",
     "text": [
      "OID: 113646596263696\n"
     ]
    }
   ],
   "source": [
    "oid = data['data']['aid']\n",
    "print(\"OID:\", oid)"
   ]
  },
  {
   "cell_type": "code",
   "execution_count": 70,
   "id": "d8bdc580-e259-4445-a948-63d5f873ed89",
   "metadata": {},
   "outputs": [],
   "source": [
    "# 请求弹幕API\n",
    "danmaku_url = f\"https://api.bilibili.com/x/v1/dm/list.so?oid={cid}\"\n",
    "danmaku_resp = requests.get(danmaku_url, headers={\"User-Agent\": \"Mozilla/5.0\"})\n",
    "danmaku_resp.encoding = 'utf-8'\n",
    "\n",
    "# 解析XML\n",
    "soup = BeautifulSoup(danmaku_resp.text, 'xml')\n",
    "danmus = soup.find_all('d')\n",
    "danmu_list = [danmu.text for danmu in danmus]\n",
    "\n",
    "# 保存为DataFrame\n",
    "df_danmu = pd.DataFrame(danmu_list, columns=['弹幕内容'])"
   ]
  },
  {
   "cell_type": "code",
   "execution_count": 71,
   "id": "fc2b8657-9ed5-471f-9a47-0aea03b97cba",
   "metadata": {},
   "outputs": [],
   "source": [
    "subtitle_url = f\"https://api.bilibili.com/x/player/v2?cid={cid}&bvid={bvid}\"\n",
    "resp = requests.get(subtitle_url, headers={\"User-Agent\": \"Mozilla/5.0\"})\n",
    "data = resp.json()\n",
    "\n",
    "subtitle_list = []\n",
    "if 'subtitle' in data['data'] and data['data']['subtitle']['subtitles']:\n",
    "    subtitle_url = data['data']['subtitle']['subtitles'][0]['subtitle_url']\n",
    "    subtitle_resp = requests.get(f\"https:{subtitle_url}\")\n",
    "    subtitle_data = subtitle_resp.json()\n",
    "    for item in subtitle_data['body']:\n",
    "        subtitle_list.append({\"时间\": item['from'], \"字幕内容\": item['content']})\n",
    "\n",
    "df_subtitle = pd.DataFrame(subtitle_list)"
   ]
  },
  {
   "cell_type": "code",
   "execution_count": 72,
   "id": "1ce86c52-2941-499e-ba0a-bb807dfaac27",
   "metadata": {},
   "outputs": [],
   "source": [
    "with pd.ExcelWriter('bilibili_data.xlsx', engine='openpyxl') as writer:\n",
    "    df_danmu.to_excel(writer, sheet_name='弹幕', index=False)\n",
    "    if not df_subtitle.empty:\n",
    "        df_subtitle.to_excel(writer, sheet_name='字幕', index=False)"
   ]
  },
  {
   "cell_type": "code",
   "execution_count": 73,
   "id": "011fa1b9-b791-477e-8dc8-c05deb5ce431",
   "metadata": {},
   "outputs": [],
   "source": [
    "def get_all_comments(oid):\n",
    "    comments = []\n",
    "    page = 1  # 主评论分页起始\n",
    "    \n",
    "    while True:\n",
    "        # 请求主评论API\n",
    "        url = f\"https://api.bilibili.com/x/v2/reply/main?jsonp=jsonp&next={page}&type=1&oid={oid}\"\n",
    "        headers = {\"User-Agent\": \"Mozilla/5.0\"}\n",
    "        response = requests.get(url, headers=headers)\n",
    "        data = response.json()\n",
    "        \n",
    "        # 检查是否无数据\n",
    "        if not data.get('data') or not data['data'].get('replies'):\n",
    "            break\n",
    "        \n",
    "        # 处理主评论\n",
    "        for reply in data['data']['replies']:\n",
    "            # 添加主评论\n",
    "            comments.append({\n",
    "                \"类型\": \"主评论\",\n",
    "                \"评论ID\": reply['rpid'],\n",
    "                \"用户\": reply['member']['uname'],\n",
    "                \"内容\": reply['content']['message'],\n",
    "                \"点赞数\": reply['like'],\n",
    "                \"回复数\": reply['count']\n",
    "            })\n",
    "            \n",
    "            # 如果有次级评论，抓取全部\n",
    "            if reply['count'] > 0:\n",
    "                sub_comments = get_sub_comments(oid, reply['rpid'])\n",
    "                comments.extend(sub_comments)\n",
    "        \n",
    "        # 检查是否还有下一页\n",
    "        if data['data']['cursor']['is_end']:\n",
    "            break\n",
    "        \n",
    "        page += 1\n",
    "        time.sleep(1)  # 防止请求过快\n",
    "        \n",
    "    return comments\n",
    "\n",
    "def get_sub_comments(oid, root_id):\n",
    "    sub_comments = []\n",
    "    sub_page = 1  # 次级评论分页起始\n",
    "    \n",
    "    while True:\n",
    "        url = f\"https://api.bilibili.com/x/v2/reply/reply?jsonp=jsonp&pn={sub_page}&type=1&oid={oid}&root={root_id}\"\n",
    "        headers = {\"User-Agent\": \"Mozilla/5.0\"}\n",
    "        response = requests.get(url, headers=headers)\n",
    "        data = response.json()\n",
    "        \n",
    "        if not data.get('data') or not data['data'].get('replies'):\n",
    "            break\n",
    "        \n",
    "        for reply in data['data']['replies']:\n",
    "            sub_comments.append({\n",
    "                \"类型\": \"次级评论\",\n",
    "                \"评论ID\": reply['rpid'],\n",
    "                \"用户\": reply['member']['uname'],\n",
    "                \"内容\": reply['content']['message'],\n",
    "                \"点赞数\": reply['like'],\n",
    "                \"回复对象\": f\"{reply['parent']}@{reply['root']}\"  # 被回复的评论ID\n",
    "            })\n",
    "        \n",
    "        # 检查是否还有下一页\n",
    "        if data['data']['page']['num'] * data['data']['page']['size'] >= data['data']['page']['count']:\n",
    "            break\n",
    "        \n",
    "        sub_page += 1\n",
    "        time.sleep(0.5)\n",
    "    \n",
    "    return sub_comments\n",
    "\n",
    "# 使用示例\n",
    "oid = 113646596263696  # 替换为实际OID\n",
    "all_comments = get_all_comments(oid)\n",
    "df_comments = pd.DataFrame(all_comments)\n",
    "df_comments.to_excel(\"bilibili_comments_4.xlsx\", index=False)"
   ]
  },
  {
   "cell_type": "code",
   "execution_count": null,
   "id": "9fb3b352-e329-41d0-81b4-4cd797faef0c",
   "metadata": {},
   "outputs": [],
   "source": []
  }
 ],
 "metadata": {
  "kernelspec": {
   "display_name": "Python 3 (ipykernel)",
   "language": "python",
   "name": "python3"
  },
  "language_info": {
   "codemirror_mode": {
    "name": "ipython",
    "version": 3
   },
   "file_extension": ".py",
   "mimetype": "text/x-python",
   "name": "python",
   "nbconvert_exporter": "python",
   "pygments_lexer": "ipython3",
   "version": "3.12.7"
  }
 },
 "nbformat": 4,
 "nbformat_minor": 5
}
